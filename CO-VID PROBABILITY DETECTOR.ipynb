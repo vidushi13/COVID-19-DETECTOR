{
 "cells": [
  {
   "cell_type": "markdown",
   "metadata": {},
   "source": [
    "## IMPORT STATEMENTS"
   ]
  },
  {
   "cell_type": "code",
   "execution_count": 120,
   "metadata": {},
   "outputs": [],
   "source": [
    "import numpy as np\n",
    "from sklearn import preprocessing\n",
    "import matplotlib.pyplot as plt \n",
    "from sklearn.linear_model import LogisticRegression\n",
    "from sklearn.model_selection import train_test_split\n",
    "import seaborn as sns\n",
    "from sklearn.preprocessing import LabelEncoder "
   ]
  },
  {
   "cell_type": "markdown",
   "metadata": {},
   "source": [
    "## READING TRAIN AND TEST DATA"
   ]
  },
  {
   "cell_type": "code",
   "execution_count": 121,
   "metadata": {},
   "outputs": [],
   "source": [
    "train_data = pd.read_excel('Train_dataset.xlsx', 'Train_dataset')\n",
    "train_data.to_csv('csvfile1.csv1', encoding='utf-8')\n",
    "test_data = pd.read_excel('Test_dataset.xlsx', 'Test_dataset')\n",
    "test_data.to_csv('csvfile2.csv2', encoding='utf-8')"
   ]
  },
  {
   "cell_type": "markdown",
   "metadata": {},
   "source": [
    "## CLEANING DATA"
   ]
  },
  {
   "cell_type": "code",
   "execution_count": 122,
   "metadata": {},
   "outputs": [],
   "source": [
    "dropColumns = ['Designation', 'Name', 'salary','Region'] \n",
    "train_data = train_data.drop(dropColumns, axis = 1) \n",
    "test_data = test_data.drop(dropColumns, axis = 1) \n",
    "train_data = train_data.rename(columns=({'Heart rate':'Heart_rate'}))\n",
    "train_data = train_data.rename(columns=({'Pulmonary score':'Pulmonary_score'}))\n",
    "train_data = train_data.rename(columns=({'cardiological pressure':'cardiological_pressure'}))\n",
    "train_data.Occupation=train_data.Occupation.apply(str)\n",
    "train_data.Mode_transport=train_data.Mode_transport.apply(str)\n",
    "train_data.comorbidity=train_data.comorbidity.apply(str)\n",
    "train_data.cardiological_pressure=train_data.cardiological_pressure.apply(str)\n",
    "\n",
    "train_data.Pulmonary_score=train_data.Pulmonary_score.apply(str)\n",
    "train_data.dropna(inplace=True)\n",
    "le = LabelEncoder() \n",
    "train_data['Gender']= le.fit_transform(train_data['Gender']) \n",
    "train_data['Married']= le.fit_transform(train_data['Married']) \n",
    "train_data['Occupation']= le.fit_transform(train_data['Occupation']) \n",
    "train_data['comorbidity']= le.fit_transform(train_data['comorbidity']) \n",
    "\n",
    "train_data['cardiological_pressure']= le.fit_transform(train_data['cardiological_pressure'])\n",
    "\n",
    "train_data['Mode_transport']= le.fit_transform(train_data['Mode_transport']) \n",
    "\n",
    "train_data['Pulmonary_score']= le.fit_transform(train_data['Pulmonary_score']) "
   ]
  },
  {
   "cell_type": "code",
   "execution_count": 123,
   "metadata": {},
   "outputs": [],
   "source": [
    "columns=['Infect_Prob','people_ID']\n",
    "y_train = train_data['Infect_Prob'] \n",
    "x_train = train_data.drop(columns, axis = 1) \n",
    "y_validate = validate_data['Infect_Prob'] \n",
    "\n",
    "x_validate = validate_data.drop(columns, axis = 1)\n"
   ]
  },
  {
   "cell_type": "code",
   "execution_count": 124,
   "metadata": {},
   "outputs": [],
   "source": [
    "test_data = test_data.rename(columns=({'Heart rate':'Heart_rate'}))\n",
    "test_data = test_data.rename(columns=({'Pulmonary score':'Pulmonary_score'}))\n",
    "test_data = test_data.rename(columns=({'cardiological pressure':'cardiological_pressure'}))\n",
    "test_data.Occupation=test_data.Occupation.apply(str)\n",
    "test_data.Mode_transport=test_data.Mode_transport.apply(str)\n",
    "test_data.comorbidity=test_data.comorbidity.apply(str)\n",
    "test_data.cardiological_pressure=test_data.cardiological_pressure.apply(str)\n",
    "\n",
    "test_data.Pulmonary_score=test_data.Pulmonary_score.apply(str)\n",
    "\n",
    "  \n",
    "test_data['Gender']= le.fit_transform(test_data['Gender']) \n",
    "test_data['Married']= le.fit_transform(test_data['Married']) \n",
    "test_data['Occupation']= le.fit_transform(test_data['Occupation']) \n",
    "test_data['comorbidity']= le.fit_transform(test_data['comorbidity']) \n",
    "\n",
    "test_data['cardiological_pressure']= le.fit_transform(test_data['cardiological_pressure'])\n",
    "\n",
    "test_data['Mode_transport']= le.fit_transform(test_data['Mode_transport']) \n",
    "\n",
    "test_data['Pulmonary_score']= le.fit_transform(test_data['Pulmonary_score']) \n",
    "test_data.dropna(inplace=True)\n",
    "columns=['people_ID']\n",
    "x_test=test_data.drop(columns,axis=1)"
   ]
  },
  {
   "cell_type": "markdown",
   "metadata": {},
   "source": [
    "## SPLITTING TRAIN AND VALIDATE DATASET"
   ]
  },
  {
   "cell_type": "code",
   "execution_count": 125,
   "metadata": {},
   "outputs": [],
   "source": [
    "def split(data,ratio):\n",
    "    np.random.seed(42)\n",
    "    shuffled = np.random.permutation(len(data))\n",
    "    validate_set_size = int(len(data)*ratio)\n",
    "    validate_indices = shuffled[:validate_set_size]\n",
    "    train_indices = shuffled[validate_set_size:]\n",
    "    return data.iloc[train_indices],data.iloc[validate_indices]"
   ]
  },
  {
   "cell_type": "code",
   "execution_count": 126,
   "metadata": {},
   "outputs": [
    {
     "ename": "PermissionError",
     "evalue": "[Errno 13] Permission denied: 'val.csv'",
     "output_type": "error",
     "traceback": [
      "\u001b[1;31m---------------------------------------------------------------------------\u001b[0m",
      "\u001b[1;31mPermissionError\u001b[0m                           Traceback (most recent call last)",
      "\u001b[1;32m<ipython-input-126-b7898f281825>\u001b[0m in \u001b[0;36m<module>\u001b[1;34m\u001b[0m\n\u001b[0;32m      1\u001b[0m \u001b[0mtrain_data\u001b[0m\u001b[1;33m,\u001b[0m\u001b[0mvalidate_data\u001b[0m\u001b[1;33m=\u001b[0m\u001b[0msplit\u001b[0m\u001b[1;33m(\u001b[0m\u001b[0mtrain_data\u001b[0m\u001b[1;33m,\u001b[0m\u001b[1;36m0.2\u001b[0m\u001b[1;33m)\u001b[0m\u001b[1;33m\u001b[0m\u001b[1;33m\u001b[0m\u001b[0m\n\u001b[1;32m----> 2\u001b[1;33m \u001b[0mvalidate_data\u001b[0m\u001b[1;33m.\u001b[0m\u001b[0mto_csv\u001b[0m\u001b[1;33m(\u001b[0m\u001b[1;34m'val.csv'\u001b[0m\u001b[1;33m,\u001b[0m \u001b[0msep\u001b[0m\u001b[1;33m=\u001b[0m\u001b[1;34m'\\t'\u001b[0m\u001b[1;33m)\u001b[0m\u001b[1;33m\u001b[0m\u001b[1;33m\u001b[0m\u001b[0m\n\u001b[0m",
      "\u001b[1;32mc:\\users\\sanyam jain\\appdata\\local\\programs\\python\\python37\\lib\\site-packages\\pandas\\core\\generic.py\u001b[0m in \u001b[0;36mto_csv\u001b[1;34m(self, path_or_buf, sep, na_rep, float_format, columns, header, index, index_label, mode, encoding, compression, quoting, quotechar, line_terminator, chunksize, tupleize_cols, date_format, doublequote, escapechar, decimal)\u001b[0m\n\u001b[0;32m   3018\u001b[0m                                  \u001b[0mdoublequote\u001b[0m\u001b[1;33m=\u001b[0m\u001b[0mdoublequote\u001b[0m\u001b[1;33m,\u001b[0m\u001b[1;33m\u001b[0m\u001b[1;33m\u001b[0m\u001b[0m\n\u001b[0;32m   3019\u001b[0m                                  escapechar=escapechar, decimal=decimal)\n\u001b[1;32m-> 3020\u001b[1;33m         \u001b[0mformatter\u001b[0m\u001b[1;33m.\u001b[0m\u001b[0msave\u001b[0m\u001b[1;33m(\u001b[0m\u001b[1;33m)\u001b[0m\u001b[1;33m\u001b[0m\u001b[1;33m\u001b[0m\u001b[0m\n\u001b[0m\u001b[0;32m   3021\u001b[0m \u001b[1;33m\u001b[0m\u001b[0m\n\u001b[0;32m   3022\u001b[0m         \u001b[1;32mif\u001b[0m \u001b[0mpath_or_buf\u001b[0m \u001b[1;32mis\u001b[0m \u001b[1;32mNone\u001b[0m\u001b[1;33m:\u001b[0m\u001b[1;33m\u001b[0m\u001b[1;33m\u001b[0m\u001b[0m\n",
      "\u001b[1;32mc:\\users\\sanyam jain\\appdata\\local\\programs\\python\\python37\\lib\\site-packages\\pandas\\io\\formats\\csvs.py\u001b[0m in \u001b[0;36msave\u001b[1;34m(self)\u001b[0m\n\u001b[0;32m    155\u001b[0m             f, handles = _get_handle(self.path_or_buf, self.mode,\n\u001b[0;32m    156\u001b[0m                                      \u001b[0mencoding\u001b[0m\u001b[1;33m=\u001b[0m\u001b[0mself\u001b[0m\u001b[1;33m.\u001b[0m\u001b[0mencoding\u001b[0m\u001b[1;33m,\u001b[0m\u001b[1;33m\u001b[0m\u001b[1;33m\u001b[0m\u001b[0m\n\u001b[1;32m--> 157\u001b[1;33m                                      compression=self.compression)\n\u001b[0m\u001b[0;32m    158\u001b[0m             \u001b[0mclose\u001b[0m \u001b[1;33m=\u001b[0m \u001b[1;32mTrue\u001b[0m\u001b[1;33m\u001b[0m\u001b[1;33m\u001b[0m\u001b[0m\n\u001b[0;32m    159\u001b[0m \u001b[1;33m\u001b[0m\u001b[0m\n",
      "\u001b[1;32mc:\\users\\sanyam jain\\appdata\\local\\programs\\python\\python37\\lib\\site-packages\\pandas\\io\\common.py\u001b[0m in \u001b[0;36m_get_handle\u001b[1;34m(path_or_buf, mode, encoding, compression, memory_map, is_text)\u001b[0m\n\u001b[0;32m    422\u001b[0m         \u001b[1;32melif\u001b[0m \u001b[0mencoding\u001b[0m\u001b[1;33m:\u001b[0m\u001b[1;33m\u001b[0m\u001b[1;33m\u001b[0m\u001b[0m\n\u001b[0;32m    423\u001b[0m             \u001b[1;31m# Python 3 and encoding\u001b[0m\u001b[1;33m\u001b[0m\u001b[1;33m\u001b[0m\u001b[1;33m\u001b[0m\u001b[0m\n\u001b[1;32m--> 424\u001b[1;33m             \u001b[0mf\u001b[0m \u001b[1;33m=\u001b[0m \u001b[0mopen\u001b[0m\u001b[1;33m(\u001b[0m\u001b[0mpath_or_buf\u001b[0m\u001b[1;33m,\u001b[0m \u001b[0mmode\u001b[0m\u001b[1;33m,\u001b[0m \u001b[0mencoding\u001b[0m\u001b[1;33m=\u001b[0m\u001b[0mencoding\u001b[0m\u001b[1;33m,\u001b[0m \u001b[0mnewline\u001b[0m\u001b[1;33m=\u001b[0m\u001b[1;34m\"\"\u001b[0m\u001b[1;33m)\u001b[0m\u001b[1;33m\u001b[0m\u001b[1;33m\u001b[0m\u001b[0m\n\u001b[0m\u001b[0;32m    425\u001b[0m         \u001b[1;32melif\u001b[0m \u001b[0mis_text\u001b[0m\u001b[1;33m:\u001b[0m\u001b[1;33m\u001b[0m\u001b[1;33m\u001b[0m\u001b[0m\n\u001b[0;32m    426\u001b[0m             \u001b[1;31m# Python 3 and no explicit encoding\u001b[0m\u001b[1;33m\u001b[0m\u001b[1;33m\u001b[0m\u001b[1;33m\u001b[0m\u001b[0m\n",
      "\u001b[1;31mPermissionError\u001b[0m: [Errno 13] Permission denied: 'val.csv'"
     ]
    }
   ],
   "source": [
    "\n",
    "train_data,validate_data=split(train_data,0.2)\n",
    "validate_data.to_csv('val.csv', sep='\\t')\n"
   ]
  },
  {
   "cell_type": "code",
   "execution_count": null,
   "metadata": {},
   "outputs": [],
   "source": [
    "validate_data\n",
    "#y_validate"
   ]
  },
  {
   "cell_type": "markdown",
   "metadata": {},
   "source": [
    "## TRAINING LASSO MODEL"
   ]
  },
  {
   "cell_type": "code",
   "execution_count": null,
   "metadata": {},
   "outputs": [],
   "source": [
    "from sklearn.linear_model import Lasso \n",
    "from sklearn.model_selection import train_test_split, cross_val_score \n",
    "from statistics import mean \n",
    "cross_val_scores_lasso = [] \n",
    "  \n",
    "# List to maintain the different values of Lambda \n",
    "Lambda = [] \n",
    "  \n",
    "# Loop to compute the cross-validation scores \n",
    "for i in range(1, 9): \n",
    "    lassoModel = Lasso(alpha = i * 0.25, tol = 0.0925) \n",
    "    lassoModel.fit(x_train, y_train) \n",
    "    scores = cross_val_score(lassoModel, x_train, y_train, cv = 10) \n",
    "    avg_cross_val_score = mean(scores)*100\n",
    "    cross_val_scores_lasso.append(avg_cross_val_score) \n",
    "    Lambda.append(i * 0.25) \n",
    "  \n",
    "# Loop to print the different values of cross-validation scores \n",
    "for i in range(0, len(Lambda)): \n",
    "    print(str(Lambda[i])+' : '+str(cross_val_scores_lasso[i])) "
   ]
  },
  {
   "cell_type": "code",
   "execution_count": null,
   "metadata": {},
   "outputs": [],
   "source": [
    "lassoModelChosen = Lasso(alpha = 0.0005, tol = 0.0000000005) \n",
    "lassoModelChosen.fit(x_train, y_train) "
   ]
  },
  {
   "cell_type": "markdown",
   "metadata": {},
   "source": [
    "## VALIDATING USING VALIDATE _DATA "
   ]
  },
  {
   "cell_type": "code",
   "execution_count": null,
   "metadata": {},
   "outputs": [],
   "source": [
    "ar=lassoModelChosen.predict(x_validate)\n",
    "ar= np.around(ar, decimals=2)"
   ]
  },
  {
   "cell_type": "markdown",
   "metadata": {},
   "source": [
    "## PLOTTING GRAPH OF VALIDATE_DATA (GIVEN AND PREDICTED)"
   ]
  },
  {
   "cell_type": "code",
   "execution_count": null,
   "metadata": {},
   "outputs": [],
   "source": [
    "import matplotlib.pyplot as plt \n",
    "plt.plot(validate_data['people_ID'][200:210],ar[200:210],label = \"train\")\n",
    "\n",
    "plt.plot(validate_data['people_ID'][200:210],validate_data['Infect_Prob'][200:210],label = \"val\")\n",
    "plt.xlabel('x - axis') \n",
    "# naming the y axis \n",
    "plt.ylabel('y - axis') \n",
    "# giving a title to my graph \n",
    "plt.title('Two lines on same graph!') \n",
    "  \n",
    "# show a legend on the plot \n",
    "plt.legend() \n",
    "  \n",
    "# function to show the plot \n",
    "plt.show() "
   ]
  },
  {
   "cell_type": "markdown",
   "metadata": {},
   "source": [
    "## TESTING THE MODEL ON TEST_DATASET"
   ]
  },
  {
   "cell_type": "code",
   "execution_count": null,
   "metadata": {},
   "outputs": [],
   "source": [
    "ar=lassoModelChosen.predict(x_test)\n",
    "ar= np.around(ar, decimals=2)\n",
    "np.savetxt(\"res.csv\", ar, delimiter=\",\")"
   ]
  },
  {
   "cell_type": "code",
   "execution_count": null,
   "metadata": {},
   "outputs": [],
   "source": [
    "df_csv = pd.read_csv('res.csv', 'w')\n",
    "\n",
    "# provided that their lengths match\n",
    "df_csv['people_ID'] = test_data['people_ID',delimiter=\",\"]\n",
    "\n",
    "df_csv.to_csv('res.csv', 'w')"
   ]
  },
  {
   "cell_type": "code",
   "execution_count": null,
   "metadata": {},
   "outputs": [],
   "source": []
  }
 ],
 "metadata": {
  "kernelspec": {
   "display_name": "Python 3",
   "language": "python",
   "name": "python3"
  },
  "language_info": {
   "codemirror_mode": {
    "name": "ipython",
    "version": 3
   },
   "file_extension": ".py",
   "mimetype": "text/x-python",
   "name": "python",
   "nbconvert_exporter": "python",
   "pygments_lexer": "ipython3",
   "version": "3.7.3"
  }
 },
 "nbformat": 4,
 "nbformat_minor": 2
}
